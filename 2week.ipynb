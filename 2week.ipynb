{
  "nbformat": 4,
  "nbformat_minor": 0,
  "metadata": {
    "colab": {
      "provenance": [],
      "authorship_tag": "ABX9TyMTnvrfmgahNQMcz8tDqy2i",
      "include_colab_link": true
    },
    "kernelspec": {
      "name": "python3",
      "display_name": "Python 3"
    },
    "language_info": {
      "name": "python"
    }
  },
  "cells": [
    {
      "cell_type": "markdown",
      "metadata": {
        "id": "view-in-github",
        "colab_type": "text"
      },
      "source": [
        "<a href=\"https://colab.research.google.com/github/dltjswns1051/assignment/blob/main/2week.ipynb\" target=\"_parent\"><img src=\"https://colab.research.google.com/assets/colab-badge.svg\" alt=\"Open In Colab\"/></a>"
      ]
    },
    {
      "cell_type": "code",
      "execution_count": 21,
      "metadata": {
        "colab": {
          "base_uri": "https://localhost:8080/"
        },
        "id": "Y0hzwq-dzy8F",
        "outputId": "a2065d9a-e774-4a06-ed8a-8181f3ca0f5f"
      },
      "outputs": [
        {
          "output_type": "stream",
          "name": "stdout",
          "text": [
            "EDCBA\n",
            "!gnuoy reveroF ,niaga emoC\n",
            "amoR ,eromA\n"
          ]
        }
      ],
      "source": [
        "def rev_str(s):\n",
        "    if len(s) <= 1:\n",
        "        return s\n",
        "    else:\n",
        "        return s[-1] + rev_str(s[:-1])\n",
        "if __name__ == '__main__':\n",
        "    print(rev_str('ABCDE'))\n",
        "    print(rev_str('Come again, Forever young!'))\n",
        "    print(rev_str('Amore, Roma'))\n"
      ]
    },
    {
      "cell_type": "code",
      "source": [
        "def input_num():\n",
        "    while True:\n",
        "        try:\n",
        "            user_input = input(\"Enter integers separated by spaces (type 'done' to exit): \")\n",
        "            if user_input.lower() == 'done':\n",
        "                return 'done'\n",
        "            num_list = [int(num) for num in user_input.split()]\n",
        "\n",
        "            if len(num_list) < 2:\n",
        "                print(\"must enter more than one integer\")\n",
        "            else:\n",
        "                return num_list\n",
        "        except ValueError:\n",
        "            print(\"must enter integers separated by spaces\")\n",
        "\n",
        "\n",
        "def sum_list(lst):\n",
        "    if len(lst) == 0:\n",
        "        return 0\n",
        "    else:\n",
        "        return lst[0] + sum_list(lst[1:])\n",
        "\n",
        "\n",
        "while True:\n",
        "    input_data = input_num()\n",
        "    if input_data == 'done':\n",
        "        print(\"program terminated. good bye !\")\n",
        "        break\n",
        "    else:\n",
        "        result = sum_list(input_data)\n",
        "        print(\"The sum of the input integers is ==> {}\".format(result))"
      ],
      "metadata": {
        "colab": {
          "base_uri": "https://localhost:8080/"
        },
        "id": "qU1POhHDz8y7",
        "outputId": "56345640-de67-491a-aabd-cae303343770"
      },
      "execution_count": 22,
      "outputs": [
        {
          "output_type": "stream",
          "name": "stdout",
          "text": [
            "Enter integers separated by spaces (type 'done' to exit): 10 20 30\n",
            "The sum of the input integers is ==> 60\n",
            "Enter integers separated by spaces (type 'done' to exit): 30 go\n",
            "must enter integers separated by spaces\n",
            "Enter integers separated by spaces (type 'done' to exit): done\n",
            "program terminated. good bye !\n"
          ]
        }
      ]
    },
    {
      "cell_type": "code",
      "source": [
        "import re\n",
        "\n",
        "def find_emails(text):\n",
        "    emails = re.findall('[A-Za-z0-9._%+-]+@[A-Za-z0-9.-]+\\.[A-Z|a-z]{2,7}', text)\n",
        "    return emails\n",
        "\n",
        "\n",
        "user_text = input(\"텍스트를 입력하세요: \")\n",
        "emails = find_emails(user_text)\n",
        "if emails:\n",
        "    print(\"추출된 이메일 주소:\")\n",
        "    for email in emails:\n",
        "        print(email)\n",
        "else:\n",
        "    print(\"이메일 주소가 발견되지 않았습니다.\")"
      ],
      "metadata": {
        "colab": {
          "base_uri": "https://localhost:8080/"
        },
        "id": "6XxAXjpiz9C9",
        "outputId": "b9ed5948-d266-42ee-bcda-748f1012b988"
      },
      "execution_count": 20,
      "outputs": [
        {
          "output_type": "stream",
          "name": "stdout",
          "text": [
            "텍스트를 입력하세요: dfadradf adflafj.com daljf@adof.co  daflkajdf@dalj\n",
            "추출된 이메일 주소:\n",
            "daljf@adof.co\n"
          ]
        }
      ]
    },
    {
      "cell_type": "code",
      "source": [
        "def mbox_file(file_path):\n",
        "   with open(file_path, 'r') as file:\n",
        "    text = file.read()\n",
        "    numbers = re.findall('New Revision: (\\d+)', text)\n",
        "    return numbers\n",
        "\n",
        "if __name__ == \"__main__\":\n",
        "    file_path = \"/content/mbox (2).txt\"\n",
        "    numbers = mbox_file(file_path)\n",
        "\n",
        "    if numbers:\n",
        "        total_lines = len(numbers)\n",
        "        total_sum = sum(map(int, numbers))\n",
        "        average = total_sum / total_lines\n",
        "\n",
        "        print(f\"Total {total_lines} lines are matched\")\n",
        "        print(f\"Average: {average:.4f}\")"
      ],
      "metadata": {
        "colab": {
          "base_uri": "https://localhost:8080/"
        },
        "id": "gga88YLn1dsQ",
        "outputId": "cd47a42c-2702-40b4-d404-78932399077c"
      },
      "execution_count": 19,
      "outputs": [
        {
          "output_type": "stream",
          "name": "stdout",
          "text": [
            "Total 1790 lines are matched\n",
            "Average: 38549.7950\n"
          ]
        }
      ]
    }
  ]
}