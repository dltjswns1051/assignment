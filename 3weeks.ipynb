{
  "nbformat": 4,
  "nbformat_minor": 0,
  "metadata": {
    "colab": {
      "provenance": [],
      "authorship_tag": "ABX9TyOpe1sOkjFbEXnQ1oEXYKVo",
      "include_colab_link": true
    },
    "kernelspec": {
      "name": "python3",
      "display_name": "Python 3"
    },
    "language_info": {
      "name": "python"
    }
  },
  "cells": [
    {
      "cell_type": "markdown",
      "metadata": {
        "id": "view-in-github",
        "colab_type": "text"
      },
      "source": [
        "<a href=\"https://colab.research.google.com/github/dltjswns1051/assignment/blob/main/3weeks.ipynb\" target=\"_parent\"><img src=\"https://colab.research.google.com/assets/colab-badge.svg\" alt=\"Open In Colab\"/></a>"
      ]
    },
    {
      "cell_type": "code",
      "execution_count": 7,
      "metadata": {
        "colab": {
          "base_uri": "https://localhost:8080/"
        },
        "id": "wyPemZN4ble9",
        "outputId": "ac681288-6714-4ab2-f800-4a1ec851ff3e"
      },
      "outputs": [
        {
          "output_type": "stream",
          "name": "stdout",
          "text": [
            "Bill(0 원) Steve(50000 원) Tim(100000 원)\n",
            "Bill(50000 원) Steve(80000 원) Tim(0 원)\n",
            "Bill(50000 원) Steve(80000 원) Tim(0 원)\n"
          ]
        }
      ],
      "source": [
        "class Customer:\n",
        "    def __init__(self, name, balance=0):\n",
        "        self.name = name\n",
        "        self.balance = balance\n",
        "    def __str__(self):\n",
        "        return self.name + \"(\" + str(self.balance) + \" 원)\"\n",
        "    def withdraw(self, money):\n",
        "        if money <= self.balance:\n",
        "            self.balance -= money\n",
        "        return self.balance\n",
        "    def deposit(self, money):\n",
        "        self.balance += money\n",
        "        return self.balance\n",
        "\n",
        "if __name__ == '__main__':\n",
        "    c1 = Customer('Bill')\n",
        "    c2 = Customer('Steve', 50000)\n",
        "    c3 = Customer('Tim', 100000)\n",
        "    print(c1, c2, c3)\n",
        "\n",
        "    c1.deposit(50000)\n",
        "    c2.deposit(30000)\n",
        "    c3.withdraw(100000)\n",
        "    print(c1, c2, c3)\n",
        "\n",
        "    c2.withdraw(1000000)\n",
        "    print(c1, c2, c3)\n"
      ]
    },
    {
      "cell_type": "code",
      "source": [
        "class Pet:\n",
        "    def __init__(self, name, age):\n",
        "        self.name = name\n",
        "        self.age = age\n",
        "    def __str__(self):\n",
        "        return \"Name: \" + self.name + \", Age: \" + str(self.age)\n",
        "\n",
        "class Dog(Pet):\n",
        "    def bark(self, n):\n",
        "        for i in range(0,n):\n",
        "            print(\"bark!\")\n",
        "    def human_age(self):\n",
        "        return self.age * 4\n",
        "\n",
        "class Cat(Pet):\n",
        "    def meow(self, n):\n",
        "        for i in range(0,n):\n",
        "            print(\"meow~\")\n",
        "    def human_age(self):\n",
        "        return self.age * 4\n",
        "\n",
        "if __name__ == '__main__':\n",
        "    popo = Dog('popo', 10)\n",
        "    popo.bark(3)\n",
        "    print(popo)\n",
        "    print('사람 나이로 환산 :', popo.human_age())\n",
        "\n",
        "    pipi = Cat('pipi', 5)\n",
        "    pipi.meow(4)\n",
        "    print(pipi)\n",
        "    print('사람 나이로 환산 :', pipi.human_age())\n"
      ],
      "metadata": {
        "colab": {
          "base_uri": "https://localhost:8080/"
        },
        "id": "dg7GBgzXdHJe",
        "outputId": "69620818-6942-4049-d807-ee60c56c3345"
      },
      "execution_count": 10,
      "outputs": [
        {
          "output_type": "stream",
          "name": "stdout",
          "text": [
            "bark!\n",
            "bark!\n",
            "bark!\n",
            "Name: popo, Age: 10\n",
            "사람 나이로 환산 : 40\n",
            "meow~\n",
            "meow~\n",
            "meow~\n",
            "meow~\n",
            "Name: pipi, Age: 5\n",
            "사람 나이로 환산 : 20\n"
          ]
        }
      ]
    },
    {
      "cell_type": "code",
      "source": [
        "#ITEM(title,price,int count) -> book(title,price,pages,author,getprice(ITEM) ),magazine(title,price,month?,getprice(ITEM))\n",
        "\n",
        "class Item:\n",
        "    count = 0\n",
        "    def __init__(self, title, price):\n",
        "        self.title = title\n",
        "        self.price = price\n",
        "        Item.count += 1\n",
        "    def getprice(self):\n",
        "        pass\n",
        "    def __str__(self):\n",
        "        return '제목: ' + self.title + ', 가격: ' + str(self.price)\n",
        "\n",
        "class Book(Item):\n",
        "    def __init__(self, title, price, pages, author):\n",
        "        super().__init__(title, price)\n",
        "        self.pages = pages\n",
        "        self.author = author\n",
        "    def getprice(self):\n",
        "        result = '* ' + self.title + ' 의 가격은 ' + str(self.price) + ' 원 입니다.'\n",
        "        print(result)\n",
        "        return result\n",
        "    def __str__(self):\n",
        "        return super().__str__() + ', 페이지 수: ' + str(self.pages) + ', 저자: ' + self.author\n",
        "\n",
        "class Magazine(Item):\n",
        "    def __init__(self, title, price, month):\n",
        "        super().__init__(title, price)\n",
        "        self.month = month\n",
        "    def getprice(self):\n",
        "        result = '* ' + self.title + ' 의 가격은 ' + str(self.price) + ' 원 입니다.'\n",
        "        print(result)\n",
        "        return result\n",
        "    def __str__(self):\n",
        "        return super().__str__() + ', 출간 월: ' + str(self.month)\n",
        "\n",
        "if __name__ == '__main__':\n",
        "    book1 = Book('소나기', 10000, 124, '황순원')\n",
        "    book2 = Book('메밀꽃 필 무렵', 15000, 142, '이효석')\n",
        "    book3 = Book('난쏘공', 12000, 112, '조세희')\n",
        "    magazine1 = Magazine('보그', 11000, 9)\n",
        "    magazine2 = Magazine('싱글즈', 13000, 8)\n",
        "    print(str(book1) + '\\n' + str(book2) + '\\n' + str(book3) + '\\n' + str(magazine1) + '\\n' + str(magazine2))\n",
        "    print('총', Item.count, '권')\n",
        "    book2.getprice()\n",
        "    magazine1.getprice()\n",
        "    book1.getprice()\n"
      ],
      "metadata": {
        "colab": {
          "base_uri": "https://localhost:8080/"
        },
        "id": "0rA9kU24dtWf",
        "outputId": "81c08bb6-f7de-4d46-f128-38d5153a8ce2"
      },
      "execution_count": 12,
      "outputs": [
        {
          "output_type": "stream",
          "name": "stdout",
          "text": [
            "제목: 소나기, 가격: 10000, 페이지 수: 124, 저자: 황순원\n",
            "제목: 메밀꽃 필 무렵, 가격: 15000, 페이지 수: 142, 저자: 이효석\n",
            "제목: 난쏘공, 가격: 12000, 페이지 수: 112, 저자: 조세희\n",
            "제목: 보그, 가격: 11000, 출간 월: 9\n",
            "제목: 싱글즈, 가격: 13000, 출간 월: 8\n",
            "총 5 권\n",
            "* 메밀꽃 필 무렵 의 가격은 15000 원 입니다.\n",
            "* 보그 의 가격은 11000 원 입니다.\n",
            "* 소나기 의 가격은 10000 원 입니다.\n"
          ]
        }
      ]
    }
  ]
}