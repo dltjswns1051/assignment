{
  "nbformat": 4,
  "nbformat_minor": 0,
  "metadata": {
    "colab": {
      "provenance": [],
      "authorship_tag": "ABX9TyOUnRc0eo4M6wmSrH3r7z1t",
      "include_colab_link": true
    },
    "kernelspec": {
      "name": "python3",
      "display_name": "Python 3"
    },
    "language_info": {
      "name": "python"
    }
  },
  "cells": [
    {
      "cell_type": "markdown",
      "metadata": {
        "id": "view-in-github",
        "colab_type": "text"
      },
      "source": [
        "<a href=\"https://colab.research.google.com/github/dltjswns1051/assignment/blob/main/4weeks.ipynb\" target=\"_parent\"><img src=\"https://colab.research.google.com/assets/colab-badge.svg\" alt=\"Open In Colab\"/></a>"
      ]
    },
    {
      "cell_type": "code",
      "source": [
        "import tkinter as tk\n",
        "from tkinter import PhotoImage\n",
        "\n",
        "def show_selection():\n",
        "    selected_animal = animal_var.get()\n",
        "    result_label.config(text=f\"선택한 동물: {selected_animal}\")\n",
        "\n",
        "def show_image():\n",
        "    selected_animal = animal_var.get()\n",
        "    image_path = animal_images.get(selected_animal)\n",
        "\n",
        "    if image_path:\n",
        "        img = PhotoImage(file=image_path)\n",
        "        image_label.config(image=img)\n",
        "        image_label.image = img\n",
        "    else:\n",
        "        image_label.config(image=None)\n",
        "\n",
        "window = tk.Tk()\n",
        "window.title(\"동물 선택 및 사진 보기 프로그램\")\n",
        "animal_var = tk.StringVar()\n",
        "animal_var.set(\"강아지\")\n",
        "dog_radio = tk.Radiobutton(window, text=\"강아지\", variable=animal_var, value=\"강아지\")\n",
        "cat_radio = tk.Radiobutton(window, text=\"고양이\", variable=animal_var, value=\"고양이\")\n",
        "rabbit_radio = tk.Radiobutton(window, text=\"토끼\", variable=animal_var, value=\"토끼\")\n",
        "\n",
        "dog_radio.pack()\n",
        "cat_radio.pack()\n",
        "rabbit_radio.pack()\n",
        "\n",
        "show_image_button = tk.Button(window, text=\"사진 보기\", command=show_image)\n",
        "show_image_button.pack()\n",
        "image_label = tk.Label(window)\n",
        "image_label.pack()\n",
        "image_folder = \"C:/Users/user/Desktop/image/\"\n",
        "animal_images = {\n",
        "    \"강아지\": image_folder + \"dog.gif\",\n",
        "    \"고양이\": image_folder + \"cat.gif\",\n",
        "    \"토끼\": image_folder + \"rabbit.gif\"\n",
        "}\n",
        "\n",
        "window.mainloop()\n"
      ],
      "metadata": {
        "id": "dg35TutLQpil"
      },
      "execution_count": null,
      "outputs": []
    },
    {
      "cell_type": "code",
      "source": [
        "import tkinter as tk\n",
        "\n",
        "strings = [\n",
        "    \"jeju1.gif\", \"jeju2.gif\", \"jeju3.gif\",\n",
        "    \"jeju4.gif\", \"jeju5.gif\", \"jeju6.gif\",\n",
        "    \"jeju7.gif\", \"jeju8.gif\", \"jeju9.gif\"\n",
        "]\n",
        "\n",
        "current_index = 0\n",
        "\n",
        "def update_label():\n",
        "    label.config(text=strings[current_index])\n",
        "\n",
        "def view():\n",
        "    global current_index\n",
        "    current_index = (current_index + 1) % len(strings)\n",
        "    update_label()\n",
        "\n",
        "def prev():\n",
        "    global current_index\n",
        "    current_index = (current_index - 1) % len(strings)\n",
        "    update_label()\n",
        "\n",
        "window = tk.Tk()\n",
        "window.title(\"문자열 변경 프로그램\")\n",
        "window.geometry(\"400x200\")\n",
        "frame = tk.Frame(window)\n",
        "frame.pack()\n",
        "view_button = tk.Button(frame, text=\"<이전\", command=prev)\n",
        "view_button.grid(row=0, column=0, padx=10)\n",
        "label = tk.Label(frame, text=strings[current_index])\n",
        "label.grid(row=0, column=1)\n",
        "next_button = tk.Button(frame, text=\"다음>\", command=view)\n",
        "next_button.grid(row=0, column=2, padx=10)\n",
        "window.mainloop()\n"
      ],
      "metadata": {
        "id": "zpiGRnnLMoA-"
      },
      "execution_count": null,
      "outputs": []
    },
    {
      "cell_type": "code",
      "source": [
        "import tkinter as tk\n",
        "\n",
        "def add_task():\n",
        "    task = task_entry.get()\n",
        "    if task:\n",
        "        task_listbox.insert(tk.END, task)\n",
        "        task_entry.delete(0, tk.END)\n",
        "\n",
        "def delete_task():\n",
        "    selected_task_index = task_listbox.curselection()\n",
        "    if selected_task_index:\n",
        "        task_listbox.delete(selected_task_index)\n",
        "\n",
        "window = tk.Tk()\n",
        "task_entry = tk.Entry(window)\n",
        "task_entry.pack(pady=10)\n",
        "add_button = tk.Button(window, text=\"Add Task\", command=add_task)\n",
        "add_button.pack()\n",
        "task_listbox = tk.Listbox(window)\n",
        "task_listbox.pack(padx=10, pady=5, fill=tk.BOTH, expand=True)\n",
        "delete_button = tk.Button(window, text=\"Delete Task\", command=delete_task)\n",
        "delete_button.pack()\n",
        "window.mainloop()\n"
      ],
      "metadata": {
        "id": "4aq-PNLyMosM"
      },
      "execution_count": null,
      "outputs": []
    }
  ]
}