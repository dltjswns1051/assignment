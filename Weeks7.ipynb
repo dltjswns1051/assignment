{
  "nbformat": 4,
  "nbformat_minor": 0,
  "metadata": {
    "colab": {
      "provenance": [],
      "authorship_tag": "ABX9TyP2AOS2qtjMgVnqkKkrrU+/",
      "include_colab_link": true
    },
    "kernelspec": {
      "name": "python3",
      "display_name": "Python 3"
    },
    "language_info": {
      "name": "python"
    }
  },
  "cells": [
    {
      "cell_type": "markdown",
      "metadata": {
        "id": "view-in-github",
        "colab_type": "text"
      },
      "source": [
        "<a href=\"https://colab.research.google.com/github/dltjswns1051/assignment/blob/main/Weeks7.ipynb\" target=\"_parent\"><img src=\"https://colab.research.google.com/assets/colab-badge.svg\" alt=\"Open In Colab\"/></a>"
      ]
    },
    {
      "cell_type": "code",
      "execution_count": null,
      "metadata": {
        "colab": {
          "base_uri": "https://localhost:8080/"
        },
        "id": "ZLbOOoRO6qnX",
        "outputId": "b268088e-40c5-42c2-afac-4148a221d566"
      },
      "outputs": [
        {
          "output_type": "stream",
          "name": "stdout",
          "text": [
            "2,1,3,2\n",
            "2\n",
            "1\n"
          ]
        }
      ],
      "source": [
        "from collections import deque\n",
        "def print_documents(priorities,location):\n",
        "    t =0\n",
        "    queue=deque([(p,i) for i, p in enumerate(priorities)])\n",
        "    while queue:\n",
        "        current=queue.popleft()\n",
        "        if any(current[0]<doc[0] for doc in queue):\n",
        "            queue.append(current)\n",
        "        else:\n",
        "            t+=1\n",
        "            if current[1]==location:\n",
        "                return t\n",
        "\n",
        "priorities=list(map(int,input().split()))\n",
        "location=int(input())\n",
        "\n",
        "result=print_documents(priorities,location)\n",
        "print(result)\n"
      ]
    },
    {
      "cell_type": "code",
      "source": [
        "from collections import deque\n",
        "def calculate_stock_duration(prices):\n",
        "    n=len(prices)\n",
        "    result=[0]*n\n",
        "    stack=deque()\n",
        "\n",
        "    for i in range(n):\n",
        "        while stack and prices[i] < prices[stack[-1]]:\n",
        "            j=stack.pop()\n",
        "            result[j]=i-j\n",
        "        stack.append(i)\n",
        "\n",
        "    while stack:\n",
        "        j=stack.pop()\n",
        "        result[j]=n-1-j\n",
        "\n",
        "    return result\n",
        "\n",
        "prices=list(map(int, input().split()))\n",
        "result=calculate_stock_duration(prices)\n",
        "print(result)\n"
      ],
      "metadata": {
        "colab": {
          "base_uri": "https://localhost:8080/"
        },
        "id": "M-DOqa6_8R2V",
        "outputId": "a98f1dc2-b8da-4a29-bc3a-106ded249fea"
      },
      "execution_count": null,
      "outputs": [
        {
          "output_type": "stream",
          "name": "stdout",
          "text": [
            "1000 2000 3000 2000 4000\n",
            "[4, 3, 1, 1, 0]\n"
          ]
        }
      ]
    },
    {
      "cell_type": "code",
      "source": [
        "from collections import Counter\n",
        "\n",
        "def count_words(file_path):\n",
        "    with open(file_path, 'r') as file:\n",
        "        text = file.read().lower()\n",
        "        words = text.split()\n",
        "        word_count = Counter(words)\n",
        "    return word_count\n",
        "\n",
        "file1_path = '/content/file1.txt'\n",
        "file2_path = '/content/file2.txt'\n",
        "\n",
        "count_file1 = count_words(file1_path)\n",
        "count_file2 = count_words(file2_path)\n",
        "\n",
        "common_words = set(count_file1.keys()) & set(count_file2.keys())\n",
        "\n",
        "print(\"공통된 단어와 각 파일에서의 빈도:\")\n",
        "for word in common_words:\n",
        "    count1 = count_file1[word]\n",
        "    count2 = count_file2[word]\n",
        "    print(f\"'{word}': 파일1 - {count1}, 파일2 - {count2}\")\n"
      ],
      "metadata": {
        "colab": {
          "base_uri": "https://localhost:8080/"
        },
        "id": "W0CFzusc9ZWM",
        "outputId": "b55502a9-5ef2-4752-e92a-c3065fedd3d4"
      },
      "execution_count": null,
      "outputs": [
        {
          "output_type": "stream",
          "name": "stdout",
          "text": [
            "공통된 단어와 각 파일에서의 빈도:\n",
            "'is': 파일1 - 1, 파일2 - 1\n",
            "'programming': 파일1 - 1, 파일2 - 1\n"
          ]
        }
      ]
    }
  ]
}